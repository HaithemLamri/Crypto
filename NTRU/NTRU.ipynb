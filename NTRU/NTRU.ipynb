{
 "cells": [
  {
   "cell_type": "markdown",
   "id": "0320da2d",
   "metadata": {},
   "source": [
    "<h1>NTRU public key cryptosystem</h1>\n",
    "In this notebook, we are going to explore the NTRU cryptosystem from the theory to the application, so here's the summary:<br>\n",
    "<ul>\n",
    "    <li>Introduction</li>\n",
    "    <li>Theoritical Aspects</li>\n",
    "    <li>A Sagemath-based Implementation</li>\n",
    "    <li>The lattice Cryptanalysis Against NTRU </li>\n",
    "    <li>Ressources</li>\n",
    "</ul>"
   ]
  },
  {
   "cell_type": "markdown",
   "id": "ad9bb0f7",
   "metadata": {},
   "source": [
    "<h2>Introduction</h2>\n",
    "NTRU is  ring-based a public key cryptosystem, it was introduced by Jeffrey Hoffstein, Jill Pipher, Joseph H. Silverman(<a href=\"https://www.ntru.org/f/hps98.pdf\"> original paper</a>), NTRU has many version, in this notebook, we will focus on the polynomial version, in a basic term,the plaintext and ciphertext will  both encoded as polynomials. The main textbook support for this notebook is the great book \"An Introduction to Mathematical Cryptography\" written by the inventor of NTRU."
   ]
  },
  {
   "cell_type": "markdown",
   "id": "025e88dd",
   "metadata": {},
   "source": [
    "<h2>Theoritical Aspects</h2>\n",
    "This version of NTRU is based on polynomial rings, \n",
    "Where :\n",
    "<img src=\"Images/Poly_ring.png\"  style=\"width:400px ;height:50px\"> \n",
    "\n",
    "<ul>\n",
    "<li>$R$: is a quotient ring of the ring of polynomials with integer coefficients where every polynomial which is divisible by  the polynomial $X^{n}-1$ will be the zero element , the same thing on the ring $\\mathbb{Z}/n\\mathbb{Z}$ where the multiple of n are all considered as zero.  </li>\n",
    "    <li>$R_{q}$ and $R_{p}$ are the same as $R$, but the coefficients of the polynomials are taken modulo q (Resp p)</li>\n",
    "</ul>\n",
    "and t(d,d) : refers to the ternanry polynomial notation.\n",
    "<img src=\"Images/Tdd.png\"  style=\"width:400px ;height:100px\"> \n",
    "\n",
    "the NTRU cryptosystem is illustred on the figure below :\n",
    "<img src=\"Images/Ntru_gen.png\"  style=\"width:400px ;height:400px\"> \n",
    "\n",
    "a small remark: the plaintext (resp ciphertext), should be a polynomial with coefficient on the interval $[ \\frac{-p}{2},\\frac{p}{2}]$\n",
    ", this operatin is called \"Centerlifting\".\n",
    "\n"
   ]
  },
  {
   "cell_type": "markdown",
   "id": "7ec374b6",
   "metadata": {},
   "source": [
    "<h2>A Sagemath-based Implementation</h2>\n",
    "Here's a basic implementation of the NTRU cryptosystem using sagemath and python, and for the examples, i have used a binary encoding scheme, so, the binary representation of the plaintext will be the coefficient of its binary polynomial representation."
   ]
  },
  {
   "cell_type": "code",
   "execution_count": 1,
   "id": "12205502",
   "metadata": {},
   "outputs": [],
   "source": [
    "import random\n",
    "\n"
   ]
  },
  {
   "cell_type": "code",
   "execution_count": 2,
   "id": "09dccd13",
   "metadata": {},
   "outputs": [],
   "source": [
    "class NTRU:\n",
    "    f_x = None\n",
    "    g_x = None\n",
    "    Fp_x = None\n",
    "    Fq_x = None\n",
    "    hx = None\n",
    "    R = None\n",
    "    Rq = None\n",
    "    Rp = None\n",
    "    def __init__(self,N,p,q,d):\n",
    "        self.N = N\n",
    "        self.p = p\n",
    "        self.q = q\n",
    "        self.d = d\n",
    "        \n",
    "    def random_poly(self,N,d1,d2):\n",
    "        coef_list = [1]*d1+[-1]*d2+[0]*(N-d1-d2)\n",
    "        random.shuffle(coef_list)\n",
    "        random.shuffle(coef_list)\n",
    "        \n",
    "        return coef_list\n",
    "        \n",
    "\n",
    "    def keygen(self):\n",
    "        RR.<x>= ZZ[]\n",
    "        RRq.<x>= GF(self.q)[]\n",
    "        RRp.<x>=  GF(self.p)[]\n",
    "        R = RR.quotient(x ^ self.N - 1) \n",
    "        Rq = RR.change_ring(Integers(self.q)).quotient(x^self.N - 1)\n",
    "        Rp = RR.change_ring(Integers(self.p)).quotient(x^self.N - 1)\n",
    "        while True:\n",
    "            try:\n",
    "\n",
    "                f_x = R(self.random_poly(self.N, self.d + 1, self.d))\n",
    "                g_x = R(self.random_poly(self.N, self.d, self.d))\n",
    "                Fp_x = Rp(lift(1/Rp(f_x)))\n",
    "                Fq_x = Rq(lift(1/Rq(f_x)))\n",
    "                break\n",
    "            except: \n",
    "                continue\n",
    "\n",
    "        assert Fp_x * f_x == 1 and Fq_x * f_x == 1\n",
    "        h_x = Rq( Fq_x * g_x)\n",
    "        self.f_x,self.g_x,self.Fp_x,self.Fq_x,self.h_x = f_x,g_x,Fp_x,Fq_x,h_x\n",
    "        self.R,self.Rq,self.Rp = R,Rq,Rp\n",
    "        \n",
    "\n",
    "    def encrypt(self,m:list):\n",
    "        self.keygen()  \n",
    "        r_x= self.Rq(self.random_poly(self.N,self.d,self.d))\n",
    "        m_x= self.Rp(m)\n",
    "        m_x = m_x.lift()\n",
    "        m_x = self.Rq(m_x)\n",
    "        e_x =  self.Rq(self.p *self.h_x*r_x + m_x)\n",
    "        return e_x.list(),self.h_x.list()\n",
    "    \n",
    "\n",
    "    def decrypt(self,e:list):\n",
    "        e_x = self.Rq(e)\n",
    "        a_x = self.Rq(self.f_x * e_x)\n",
    "        a_x = ZZ['x']([coeff.lift_centered() for coeff in a_x.lift()]) #Centerlift\n",
    "        b_x = self.Rp(self.Fp_x * self.R(a_x))\n",
    "        return b_x.list()\n",
    "\n",
    "\n",
    "\n"
   ]
  },
  {
   "cell_type": "code",
   "execution_count": 3,
   "id": "7b9ac5ae",
   "metadata": {},
   "outputs": [],
   "source": [
    "def str2bin(s):\n",
    "    return ''.join(bin(ord(i))[2:].zfill(8) for i in s)\n",
    "\n",
    "def bin2str(a):\n",
    "    return ''.join(chr(int(a[i:i+8],2)) for i in range(0,len(a),8))\n",
    "m =  'this is a simple 32bytes message'\n",
    "assert len(m)*8 == 256"
   ]
  },
  {
   "cell_type": "code",
   "execution_count": 4,
   "id": "5d4dc863",
   "metadata": {},
   "outputs": [],
   "source": [
    "N,p,q,d = 2**8,2,29,2\n",
    "\n",
    "assert gcd(N,q)==1 and gcd(p,q)==1 and q>(6*d+1)*p\n",
    "cipher = NTRU(N,p,q,d)\n",
    "m = list(str2bin(m))\n",
    "e ,h =  cipher.encrypt(m)\n",
    "\n"
   ]
  },
  {
   "cell_type": "code",
   "execution_count": 5,
   "id": "4486d168",
   "metadata": {},
   "outputs": [
    {
     "name": "stdout",
     "output_type": "stream",
     "text": [
      "this is a simple 32bytes message\n"
     ]
    }
   ],
   "source": [
    "dec = ''.join(str(x) for x in cipher.decrypt(e))\n",
    "print(bin2str(dec))\n"
   ]
  },
  {
   "cell_type": "markdown",
   "id": "cb3e4a32",
   "metadata": {},
   "source": [
    "<h2>The lattice Cryptanalysis Against NTRU</h2>\n",
    "Like every cryptosystem, NTRU is also vulnerable, and it can cryptanalysed using lattice reduction techniques. A lattice is  a vector space defined over  a ring, lattices are out of the scope of this notebook, so we are not going to go in depth on the cryptanalysis details. The technique is based on the short vector problem in lattices <a href=\"https://en.wikipedia.org/wiki/Lattice_problem\">SVP</a>, and if the parameters (N,p,q,d) are chosen in a bad way, the private key vector (f,g) will be the short vector on the lattice associated to the public key H.\n",
    "\n",
    "<img src=\"Images/Lattice.png\" alt=\"The lattice associated to h\" style=\"width:500px ;height:500px\"   >\n",
    "The relation between the associated lattice and the private key is illustred below\n",
    "<img src=\"Images/f_g.png\"  style=\"width:400px ;height:100px\" >\n",
    "\n",
    "<img src=\"Images/prop_1.png\"  style=\"width:400px ;height:100px\" >\n",
    "<img src=\"Images/prop2.png\"  style=\"width:400px ;height:200px\" >"
   ]
  },
  {
   "cell_type": "code",
   "execution_count": 6,
   "id": "7a959f51",
   "metadata": {},
   "outputs": [],
   "source": [
    "N,p,q,d = 8,2,29,2\n",
    "\n",
    "assert gcd(N,q)==1 and gcd(p,q)==1 and q>(6*d+1)*p\n",
    "weak_cipher = NTRU(N,p,q,d)\n",
    "m ='{'\n",
    "m = list(str2bin(m))\n",
    "e ,h=  weak_cipher.encrypt(m)"
   ]
  },
  {
   "cell_type": "code",
   "execution_count": 7,
   "id": "c7b770f4",
   "metadata": {},
   "outputs": [
    {
     "name": "stdout",
     "output_type": "stream",
     "text": [
      "the associated lattice:\n",
      "[ 1  0  0  0  0  0  0  0| 0 13 20  9 24 21 20 17]\n",
      "[ 0  1  0  0  0  0  0  0|17  0 13 20  9 24 21 20]\n",
      "[ 0  0  1  0  0  0  0  0|20 17  0 13 20  9 24 21]\n",
      "[ 0  0  0  1  0  0  0  0|21 20 17  0 13 20  9 24]\n",
      "[ 0  0  0  0  1  0  0  0|24 21 20 17  0 13 20  9]\n",
      "[ 0  0  0  0  0  1  0  0| 9 24 21 20 17  0 13 20]\n",
      "[ 0  0  0  0  0  0  1  0|20  9 24 21 20 17  0 13]\n",
      "[ 0  0  0  0  0  0  0  1|13 20  9 24 21 20 17  0]\n",
      "[-----------------------+-----------------------]\n",
      "[ 0  0  0  0  0  0  0  0|29  0  0  0  0  0  0  0]\n",
      "[ 0  0  0  0  0  0  0  0| 0 29  0  0  0  0  0  0]\n",
      "[ 0  0  0  0  0  0  0  0| 0  0 29  0  0  0  0  0]\n",
      "[ 0  0  0  0  0  0  0  0| 0  0  0 29  0  0  0  0]\n",
      "[ 0  0  0  0  0  0  0  0| 0  0  0  0 29  0  0  0]\n",
      "[ 0  0  0  0  0  0  0  0| 0  0  0  0  0 29  0  0]\n",
      "[ 0  0  0  0  0  0  0  0| 0  0  0  0  0  0 29  0]\n",
      "[ 0  0  0  0  0  0  0  0| 0  0  0  0  0  0  0 29]\n"
     ]
    },
    {
     "data": {
      "text/plain": [
       "[ 3 -1  0 -1 -3  1  0  1 -1  0  0  0  1  0  0  0]\n",
       "[ 1  3 -1  0 -1 -3  1  0  0 -1  0  0  0  1  0  0]\n",
       "[ 0  1  3 -1  0 -1 -3  1  0  0 -1  0  0  0  1  0]\n",
       "[ 1  0  1  3 -1  0 -1 -3  0  0  0 -1  0  0  0  1]\n",
       "[ 0  0 -1 -3  2  3 -1  0  1 -1 -1  2  1 -2 -1  1]\n",
       "[-2  1  0  0  0  0 -1 -4  3  1  0  1  2  1  0  2]\n",
       "[ 0 -1 -3  1 -1 -3  1  0  0  1  3  1  0  2  2  1]\n",
       "[-1  0 -4  2  0  4 -2  1  0 -1  1  1  0 -2  0  1]\n",
       "[ 1  0  0  0  0  0 -1 -3 -1  2 -2  3 -1  2 -2  4]\n",
       "[-2 -2  3  1 -3 -3 -1 -1  2 -3 -2 -1  2 -3 -1  0]\n",
       "[ 0  0  0  1  2  3  1  0  0 -2 -1 -1 -3  5  1 -1]\n",
       "[-3 -1  3  3  1  1  2  2  2  1 -2  3  1  0 -2  3]\n",
       "[-2  3  2  0 -4 -1 -1 -2 -2 -4  1 -2 -2 -3  2 -1]\n",
       "[ 0  0  1  2  3  1  0  0 -2 -1 -1 -3  5  1 -1  0]\n",
       "[ 0  0  0  0 -1 -2 -3 -1  1  0  2  1  1  3 -5 -1]\n",
       "[-1  0  0  0  0 -1 -2 -3 -1  1  0  2  1  1  3 -5]"
      ]
     },
     "execution_count": 7,
     "metadata": {},
     "output_type": "execute_result"
    }
   ],
   "source": [
    "#the attack\n",
    "def LLL_attack(h):\n",
    "    l = len(h)\n",
    "    A, I = matrix.circulant(h), matrix.identity(l)\n",
    "    H = block_matrix(ZZ, [[I, A], [0 * I, q * I]])\n",
    "    H = matrix(ZZ, H)\n",
    "    print(f\"the associated lattice:\")\n",
    "    print(H.str())\n",
    "    H_red = H.LLL()\n",
    "    return H_red\n",
    "H_red = LLL_attack(h)\n",
    "H_red"
   ]
  },
  {
   "cell_type": "code",
   "execution_count": 8,
   "id": "d66b9de0",
   "metadata": {},
   "outputs": [],
   "source": [
    "RR.<x> = ZZ[]\n",
    "RRq.<x> = GF(q)[]\n",
    "RRp.<x> =  GF(p)[]\n",
    "R = RR.quotient(x ^ N - 1) \n",
    "Rq = RR.change_ring(Integers(q)).quotient(x^N-1)\n",
    "Rp = RR.change_ring(Integers(p)).quotient(x^N-1)\n",
    "\n",
    "    \n"
   ]
  },
  {
   "cell_type": "code",
   "execution_count": 9,
   "id": "34044bf3",
   "metadata": {},
   "outputs": [],
   "source": [
    "from collections import deque\n",
    "\n",
    "def rotate(f_x:list,n):\n",
    "     f_x = deque(f_x)\n",
    "     f_x.rotate(-n)\n",
    "     return list(f_x)\n",
    "\n",
    "def getMode(l: list):\n",
    "    return max(set(l), key=l.count)\n",
    "\n",
    "def decrypt(e:list,f_x:list):\n",
    "        f_x = R(f_x)\n",
    "        Fp_x = Rp(lift(1/Rp(f_x)))\n",
    "        e_x = Rq(e)\n",
    "        a_x = Rq(f_x * e_x)\n",
    "        a_x = ZZ['x']([coeff.lift_centered() for coeff in a_x.lift()])\n",
    "        b_x = Rp(Fp_x * R(a_x))\n",
    "        b_x =''.join(str(x) for x in b_x)\n",
    "        return bin2str(b_x)\n"
   ]
  },
  {
   "cell_type": "markdown",
   "id": "510109e8",
   "metadata": {},
   "source": [
    "<h3>Remark</h3>\n",
    "Since the private key space is relatively small, there's is $\\frac{N!}{(d+1)!(d!)(N-2d-1)!} = \\frac{8!}{3!2!3!} = 560$ ways to choose f, and this is obvioulsy bruteforcable !. And due to some noise on the random function, the short vector won't be necessarily on the top, so i have tried to take the mode of decrypted result to find the desired plaintext."
   ]
  },
  {
   "cell_type": "code",
   "execution_count": 10,
   "id": "074adf1c",
   "metadata": {},
   "outputs": [
    {
     "name": "stdout",
     "output_type": "stream",
     "text": [
      "{\n"
     ]
    }
   ],
   "source": [
    "def getResult():\n",
    "    out = []\n",
    "    for i in range(2 * N):\n",
    "        for j in range(N):\n",
    "            f_x = rotate(list(H_red[i])[:N], j)\n",
    "            try:\n",
    "                byte = decrypt(e, f_x)\n",
    "                out.append(byte)\n",
    "            except:\n",
    "                continue\n",
    "    \n",
    "    return  getMode(out)\n",
    "\n",
    "\n",
    "\n",
    "print(getResult())\n"
   ]
  },
  {
   "cell_type": "markdown",
   "id": "17d383bc",
   "metadata": {},
   "source": [
    "<h2> Ressources</h2>\n",
    "Here's some good ressources to learn more about the NTRU cryptosystem:\n",
    "<ul>\n",
    "    <li><a href=\"https://www.youtube.com/@tanjalangepost-quantumcryp2802\">Tanja lanje youtube channel</a> </li>\n",
    "    <li><a href=\"https://asecuritysite.com/\"> Prof Bill Buchanan</a></li>\n",
    "    <li><a href=\"https://www.ntru.org/f/hps98.pdf\">Original Paper</a> </li>\n",
    "    <li><a href=\"https://link.springer.com/book/10.1007/978-0-387-77993-5\">An Introduction to Mathematical Cryptography</a> </li>\n",
    "    <li><a href=\"https://www.sagemath.org/\">Sagemath </a> </li>\n",
    "    \n",
    "</ul>"
   ]
  },
  {
   "cell_type": "code",
   "execution_count": null,
   "id": "246fb0c7",
   "metadata": {},
   "outputs": [],
   "source": []
  }
 ],
 "metadata": {
  "kernelspec": {
   "display_name": "SageMath 9.0",
   "language": "sage",
   "name": "sagemath"
  },
  "language_info": {
   "codemirror_mode": {
    "name": "ipython",
    "version": 3
   },
   "file_extension": ".py",
   "mimetype": "text/x-python",
   "name": "python",
   "nbconvert_exporter": "python",
   "pygments_lexer": "ipython3",
   "version": "3.8.10"
  }
 },
 "nbformat": 4,
 "nbformat_minor": 5
}
