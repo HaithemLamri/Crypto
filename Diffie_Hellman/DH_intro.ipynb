{
 "cells": [
  {
   "cell_type": "markdown",
   "metadata": {},
   "source": [
    "<h1>Diffie-Hellman key exchange </h1>\n",
    "<h2>Introduction</h2>\n",
    "<p>\n",
    " From Wikipedia, the free encyclopedia<br>\n",
    "Diffie–Hellman key exchange is a method of securely exchanging cryptographic keys over a public channel and was one of the first public-key protocols as conceived by Ralph Merkle and named after Whitfield Diffie and Martin Hellman. DH is one of the earliest practical examples of public key exchange implemented within the field of cryptography. Published in 1976 by Diffie and Hellman, this is the earliest publicly known work that proposed the idea of a private key and a corresponding public key. and it's based on the Discrete Logarithm Problem.\n",
    "</p>"
   ]
  },
  {
   "cell_type": "markdown",
   "metadata": {},
   "source": [
    "<h2>The Algorithm</h2>\n",
    "If Alice and Bob want to exchange some keys  so they have follow these steps :\n",
    " <ul>\n",
    "     <li> Choose a big prime number p and choose a generator  g of the group $\\mathbb{Z}/p\\mathbb{Z} $\n",
    "     <li>   Alice pick a random number a (his private and Bob pick another one b $(2<a,b<p-1$)\n",
    "     <li> Alice Calculates her Public Key A ($ g^{a} \\equiv A [p] $) and Bob  Calculate her Public Key B ($ g^{b} \\equiv B[p] $)\n",
    "       <li>  Exchange the Public Key between them and Calculate the Shared Secret : $  SS \\equiv A^{b} \\equiv (g^{a})^{b} \\equiv (g^{b})^{a} \\equiv B^{a} [p] $\n",
    "       <li> Using the AES and Shared Secret they can decrypt and encrypt any data they want."
   ]
  },
  {
   "cell_type": "code",
   "execution_count": 3,
   "metadata": {},
   "outputs": [
    {
     "name": "stdout",
     "output_type": "stream",
     "text": [
      "the prime p is : 266471911929868067965211065234204250411\n",
      "Alice's Public Key A = 46406332798894122601408712341556794169\n",
      "Bob's Public Key B = 219710608454794974798709120942827766926\n",
      "True\n",
      "the shared secret SS = 204702427017377856937045885906147279286\n"
     ]
    }
   ],
   "source": [
    "from Crypto.Util.number import getPrime,long_to_bytes,bytes_to_long\n",
    "from Crypto.Random.random import randint\n",
    "\n",
    "\n",
    "p=getPrime(128)\n",
    "print(f\"the prime p is : {p}\")\n",
    "#generaly 2 is the most known generator for many Z/pZ groups\n",
    "g=2\n",
    "\n",
    "def getKey():\n",
    "    n = randint(2,p-1)\n",
    "    return n , pow(g,n,p)\n",
    "\n",
    "\n",
    "\n",
    "na,A= getKey()\n",
    "##Alice's private key = na\n",
    "print(f\"Alice's Public Key A = {A}\")\n",
    "nb,B=getKey()\n",
    "##Bob's private key = nb\n",
    "print(f\"Bob's Public Key B = {B}\")\n",
    "assert nb != na\n",
    "\n",
    "print( pow(A,nb,p)==pow(B,na,p))\n",
    "#the Shared secret\n",
    "SS=pow(A,nb,p)\n",
    "print(f\"the shared secret SS = {SS}\")"
   ]
  },
  {
   "cell_type": "code",
   "execution_count": 4,
   "metadata": {},
   "outputs": [
    {
     "name": "stdout",
     "output_type": "stream",
     "text": [
      "Alice send to Bob : {'iv': 'd508b373c673563a952ff449b9297e58', 'encrypted_message': 'c9af3d49b36062fe1a575b5647716af2888e65b871b43fd32733f2da630a15c3'}\n",
      " the decrypted message is : this is a secret message \n"
     ]
    }
   ],
   "source": [
    "from Crypto.Util.Padding import pad, unpad\n",
    "from Crypto.Cipher import AES\n",
    "import hashlib\n",
    "import os\n",
    "\n",
    "\n",
    "#this is a sample of the encryption using AES-CBC mode \n",
    "\n",
    "\n",
    "Message = b'this is a secret message'\n",
    "\n",
    "def encrypt(shared_secret: int):\n",
    "    # Derive AES key from shared secret\n",
    "    sha1 = hashlib.sha1()\n",
    "    sha1.update(str(shared_secret).encode('ascii'))\n",
    "    key = sha1.digest()[:16]\n",
    "    iv = os.urandom(16)\n",
    "    cipher = AES.new(key, AES.MODE_CBC, iv)\n",
    "    ciphertext = cipher.encrypt(pad(Message, 16))\n",
    "    # Prepare data to send\n",
    "    data = {}\n",
    "    data['iv'] = iv.hex()\n",
    "    data['encrypted_message'] = ciphertext.hex()\n",
    "    return data\n",
    "\n",
    "encrypted=encrypt(SS)\n",
    "print(\"Alice send to Bob :\", encrypted)\n",
    "\n",
    "def is_pkcs7_padded(message):\n",
    "    padding = message[-message[-1]:]\n",
    "    return all(padding[i] == len(padding) for i in range(0, len(padding)))\n",
    "\n",
    "\n",
    "def decrypt(shared_secret: int, iv: str, ciphertext: str):\n",
    "    # Derive AES key from shared secret\n",
    "    sha1 = hashlib.sha1()\n",
    "    sha1.update(str(shared_secret).encode('ascii'))\n",
    "    key = sha1.digest()[:16]\n",
    "    ciphertext = bytes.fromhex(ciphertext)\n",
    "    iv = bytes.fromhex(iv)\n",
    "    cipher = AES.new(key, AES.MODE_CBC, iv)\n",
    "    plaintext = cipher.decrypt(ciphertext)\n",
    "\n",
    "    if is_pkcs7_padded(plaintext):\n",
    "        return unpad(plaintext, 16).decode('ascii')\n",
    "    else:\n",
    "        return plaintext.decode('ascii')\n",
    "\n",
    "\n",
    "decrypted=decrypt(SS,encrypted['iv'],encrypted['encrypted_message'])\n",
    "print(f\" the decrypted message is : {decrypted} \")\n"
   ]
  },
  {
   "cell_type": "code",
   "execution_count": null,
   "metadata": {},
   "outputs": [],
   "source": []
  },
  {
   "cell_type": "code",
   "execution_count": null,
   "metadata": {},
   "outputs": [],
   "source": []
  },
  {
   "cell_type": "code",
   "execution_count": null,
   "metadata": {},
   "outputs": [],
   "source": []
  }
 ],
 "metadata": {
  "kernelspec": {
   "display_name": "Python 3",
   "language": "python",
   "name": "python3"
  },
  "language_info": {
   "codemirror_mode": {
    "name": "ipython",
    "version": 3
   },
   "file_extension": ".py",
   "mimetype": "text/x-python",
   "name": "python",
   "nbconvert_exporter": "python",
   "pygments_lexer": "ipython3",
   "version": "3.8.10"
  }
 },
 "nbformat": 4,
 "nbformat_minor": 4
}
