{
 "cells": [
  {
   "cell_type": "markdown",
   "metadata": {},
   "source": [
    "<h1>THE RSA Public Key Cryptosystem:</h1>\n",
    "<h2>Inroduction:</h2>\n",
    " The most famous of the public key cryptosystem is RSA which is named \n",
    "after its three developers Ron Rivest, Adi Shamir, and Leonard Adleman. <br>\n",
    "At the time of the algorithm's development $(1977)$, the three were \n",
    "researchers at the MIT Laboratory for Computer Science. <br>\n",
    "Basicaly the RSA based on the practical difficulty of the factoring problem. \n",
    "\n",
    "    "
   ]
  },
  {
   "cell_type": "markdown",
   "metadata": {},
   "source": [
    "<h2>Key Creation</h2>\n",
    "<ol>\n",
    "    <li>Pick two larges primes p and and calculate the modulus $N=p\\cdot q $.\n",
    "    <li>Chose the public exponent e \" usually e=2^16 +1= 65537 which  is the 4th fermat number \".\n",
    "    <li>The public key is the pair (N,e).\n",
    "    <li> Use the Euler' totient to calculate $phi(N)=(p-1) \\cdot (q-1) $\n",
    "     <li> and the last step is define the private key d where $ d \\cdot e \\equiv 1 [phi(n)]$ \" which it's the multiplicative inverse of e .\n",
    "        \n",
    "      "
   ]
  },
  {
   "cell_type": "code",
   "execution_count": 33,
   "metadata": {},
   "outputs": [
    {
     "name": "stdout",
     "output_type": "stream",
     "text": [
      "the Public Key is :(207655799510908917963830632351565902969,65537)\n",
      "the private Key is : 111354737293610983290325186375454398625\n"
     ]
    }
   ],
   "source": [
    "from Crypto.Util.number import getPrime,inverse,long_to_bytes,bytes_to_long\n",
    "#We'll use small primes\n",
    "p,q=getPrime(64),getPrime(64)\n",
    "N=p * q\n",
    "e=2**16 +1\n",
    "phi=(p-1) * (q-1)\n",
    "d=inverse(e,phi)\n",
    "assert (e*d % phi ==1)\n",
    "print(f\"the Public Key is :({N},{e})\")\n",
    "print(f\"the private Key is : {d}\")"
   ]
  },
  {
   "cell_type": "markdown",
   "metadata": {},
   "source": [
    "<h2>How it works</h2>\n",
    "<h3> The Encryption </h3>\n",
    " <p>Suppose that we have a message m and we want to encrypt it, for that we use the the public key(N,e)<br>\n",
    "and Calculate the cipher text c using the formula $$  m^{e}  \\equiv c[N]$$ .</p>\n",
    "<h3> the Decryption</h3>\n",
    "<p>the rsa trapdoor is based on the Euler's theorem : $$ \\forall a \\in \\mathbb{N}^{*} , gcd(a,N)==1 \\implies a^{phi(N)} \\equiv 1 [N] $$.</p>\n",
    "<p> we've that $$ c \\equiv m^{e} [N]$$ with the exponentiation by d we find $$ c^{d} \\equiv m^{e*d} [N]$$ <br>\n",
    "    and since $$ d \\cdot e \\equiv 1 [phi(N)]$$  $$\\implies e\\cdot d = k*phi(N)+ 1.$$ \n",
    "    so :$$  c^{d} \\equiv m [N]$$\n",
    "   "
   ]
  },
  {
   "cell_type": "code",
   "execution_count": 34,
   "metadata": {},
   "outputs": [
    {
     "name": "stdout",
     "output_type": "stream",
     "text": [
      "the encrypted message is :b'\\x80\\xe5\\x88.\\xb4\\x81Q\\xb1\\x80\\x9f\\xa5\\xe7m\\xe5\\xc3\\xf1'\n",
      "m1: b'a secret message'\n"
     ]
    }
   ],
   "source": [
    "m=b'a secret message'\n",
    "#the encryption\n",
    "c=pow(bytes_to_long(m),e,N)\n",
    "print(f\"the encrypted message is :{long_to_bytes(c)}\")\n",
    "#the decryption\n",
    "m1=long_to_bytes(pow(c,d,N))\n",
    "assert m1==m\n",
    "print(f\"m1: {m1}\")"
   ]
  },
  {
   "cell_type": "markdown",
   "metadata": {},
   "source": [
    "<h2> let's create some classes </h2>"
   ]
  },
  {
   "cell_type": "code",
   "execution_count": 35,
   "metadata": {},
   "outputs": [],
   "source": [
    "class RSA:\n",
    "    def __init__(self):\n",
    "        pass\n",
    "    \n",
    "    class rsaKey(object):\n",
    "        def __init__(self, bits):\n",
    "            self.p = getPrime(bits)\n",
    "            self.q = getPrime(bits)\n",
    "            self.N = self.p * self.q\n",
    "            self.phi = (self.p - 1) * (self.q - 1)\n",
    "            self.e = 65537\n",
    "            self.d = inverse(self.e, self.phi)\n",
    "\n",
    "    def getKey(self,bits):\n",
    "        key = self.rsaKey(bits)\n",
    "        return key\n",
    "\n",
    "    def encrypt(self,plain_text: bytes, key):\n",
    "        plain_text = bytes_to_long(plain_text)\n",
    "        return long_to_bytes(pow(plain_text, key.e, key.N))\n",
    "\n",
    "    def decrypt(self,cipher_text: bytes, key):\n",
    "        cipher_text = bytes_to_long(cipher_text)\n",
    "        return long_to_bytes(pow(cipher_text, key.d, key.N))\n",
    "\n",
    "\n",
    "        \n",
    "        \n",
    "        \n",
    "         "
   ]
  },
  {
   "cell_type": "code",
   "execution_count": 37,
   "metadata": {},
   "outputs": [
    {
     "name": "stdout",
     "output_type": "stream",
     "text": [
      "cipher_text  : b'\\xd2\\xa5u\\xad\\xa2\\r\\xbd\\x17\\xf8\\xf4\\xc2\\x9b\\xc9\\x9b\\xc9\\xe8j$\\xc2\\xa6u\\x15\\xf0\\x92XK\\x9a\\x1cA\\xc4Lly\\xdcu\\x16\\xe026{\\noE\\xe3\\xf2p\\xca\\xfdg\\xd2u\\x1bNG\\xa36S\\r\\xfeP\\x9f}+\\x8c'\n",
      "plain_text : b'some bytes'\n"
     ]
    }
   ],
   "source": [
    "rsa = RSA()\n",
    "key = rsa.getKey(256)\n",
    "message = b'some bytes'\n",
    "cipher_text = rsa.encrypt(message ,key)\n",
    "print(f\"cipher_text  : {cipher_text}\")\n",
    "plain_text = rsa.decrypt(cipher_text , key)\n",
    "print(f\"plain_text : {plain_text}\")\n"
   ]
  },
  {
   "cell_type": "code",
   "execution_count": null,
   "metadata": {},
   "outputs": [],
   "source": []
  }
 ],
 "metadata": {
  "kernelspec": {
   "display_name": "Python 3",
   "language": "python",
   "name": "python3"
  },
  "language_info": {
   "codemirror_mode": {
    "name": "ipython",
    "version": 3
   },
   "file_extension": ".py",
   "mimetype": "text/x-python",
   "name": "python",
   "nbconvert_exporter": "python",
   "pygments_lexer": "ipython3",
   "version": "3.8.10"
  }
 },
 "nbformat": 4,
 "nbformat_minor": 4
}
