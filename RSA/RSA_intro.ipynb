{
 "cells": [
  {
   "cell_type": "markdown",
   "metadata": {},
   "source": [
    "<h1>THE RSA Public Key Cryptosystem:</h1>\n",
    "<h2>Inroduction:</h2>\n",
    " The most famous of the public key cryptosystem is RSA which is named \n",
    "after its three developers Ron Rivest, Adi Shamir, and Leonard Adleman. <br>\n",
    "At the time of the algorithm's development $(1977)$, the three were \n",
    "researchers at the MIT Laboratory for Computer Science. <br>\n",
    "Basicaly the RSA based on the practical difficulty of the factoring problem. \n",
    "\n",
    "    "
   ]
  },
  {
   "cell_type": "markdown",
   "metadata": {},
   "source": [
    "<h2>Key Creation</h2>\n",
    "<ol>\n",
    "    <li>Pick two larges primes p and and calculate the modulus $N=p\\cdot q $.\n",
    "    <li>Chose the public exponent e \" usually e=2^16 +1= 65537 which it is the 4th fermat number \".\n",
    "    <li>The public key is the pair (N,e).\n",
    "    <li> Use the Euler' totient to calculate $phi(N)=(p-1) \\cdot (q-1) $\n",
    "     <li> and the last step is define the private key d where $ d \\cdot e \\equiv 1 [phi(n)]$ \" which it's the multiplicative inverse of e .\n",
    "        \n",
    "      "
   ]
  },
  {
   "cell_type": "code",
   "execution_count": 11,
   "metadata": {},
   "outputs": [
    {
     "name": "stdout",
     "output_type": "stream",
     "text": [
      "the Public Key is :(133516004059701339467079228080882529121,65537)\n",
      "the private Key is : 116101493131487856227327381330229037937\n"
     ]
    }
   ],
   "source": [
    "from Crypto.Util.number import getPrime,inverse,long_to_bytes,bytes_to_long\n",
    "#We'll use small primes\n",
    "p,q=getPrime(64),getPrime(64)\n",
    "N=p * q\n",
    "e=2**16 +1\n",
    "phi=(p-1) * (q-1)\n",
    "d=inverse(e,phi)\n",
    "assert (e*d % phi ==1)\n",
    "print(f\"the Public Key is :({N},{e})\")\n",
    "print(f\"the private Key is : {d}\")"
   ]
  },
  {
   "cell_type": "markdown",
   "metadata": {},
   "source": [
    "<h2>How it works</h2>\n",
    "<h3> The Encryption </h3>\n",
    " <p>Suppose that we have a message m and we want to encrypt it, for that we use the the public key(N,e)<br>\n",
    "and Calculate the cipher text c using the formula $$  m^{e}  \\equiv c[N]$$ .</p>\n",
    "<h3> the Decryption</h3>\n",
    "<p>the rsa trapdoor is based on the Euler's theorem : $$ \\forall a \\in \\mathbb{N}^{*} , gcd(a,N)==1 \\implies a^{phi(N)} \\equiv 1 [N] $$.</p>\n",
    "<p> we've that $$ c \\equiv m^{e} [N]$$ with the exponentiation by d we find $$ c^{d} \\equiv m^{e*d} [N]$$ <br>\n",
    "    and since $$ d \\cdot e \\equiv 1 [phi(N)]$$  $$\\implies e\\cdot d = k*phi(N)+ 1.$$ \n",
    "    so :$$  c^{d} \\equiv m [N]$$\n",
    "   "
   ]
  },
  {
   "cell_type": "code",
   "execution_count": 15,
   "metadata": {},
   "outputs": [
    {
     "name": "stdout",
     "output_type": "stream",
     "text": [
      "the encrypted message is :b'N\\x04\\xb4\\x8f\\xd1\\xdc\\xa7\\xef\\xf9\\xdc\\xf0\\xedw|\\x15\\xa0'\n",
      "m1: b'a secret message'\n"
     ]
    }
   ],
   "source": [
    "m=b'a secret message'\n",
    "#the encryption\n",
    "c=pow(bytes_to_long(m),e,N)\n",
    "print(f\"the encrypted message is :{long_to_bytes(c)}\")\n",
    "#the decryption\n",
    "m1=long_to_bytes(pow(c,d,N))\n",
    "assert m1==m\n",
    "print(f\"m1: {m1}\")"
   ]
  },
  {
   "cell_type": "code",
   "execution_count": null,
   "metadata": {},
   "outputs": [],
   "source": []
  },
  {
   "cell_type": "code",
   "execution_count": null,
   "metadata": {},
   "outputs": [],
   "source": []
  }
 ],
 "metadata": {
  "kernelspec": {
   "display_name": "Python 3",
   "language": "python",
   "name": "python3"
  },
  "language_info": {
   "codemirror_mode": {
    "name": "ipython",
    "version": 3
   },
   "file_extension": ".py",
   "mimetype": "text/x-python",
   "name": "python",
   "nbconvert_exporter": "python",
   "pygments_lexer": "ipython3",
   "version": "3.8.5"
  }
 },
 "nbformat": 4,
 "nbformat_minor": 4
}
