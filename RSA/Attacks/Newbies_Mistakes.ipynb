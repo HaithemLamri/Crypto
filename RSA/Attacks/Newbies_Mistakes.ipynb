{
 "cells": [
  {
   "cell_type": "code",
   "execution_count": 1,
   "metadata": {},
   "outputs": [],
   "source": [
    "from Crypto.Util.number import inverse,getPrime,long_to_bytes,bytes_to_long"
   ]
  },
  {
   "cell_type": "markdown",
   "metadata": {},
   "source": [
    "<h2>N is prime</h2>\n",
    "whe know that $\\phi(N)=N-1$ ,so we can find d easily and break the rsa."
   ]
  },
  {
   "cell_type": "code",
   "execution_count": 6,
   "metadata": {},
   "outputs": [
    {
     "name": "stdout",
     "output_type": "stream",
     "text": [
      "cipher_text = b'<!\\xbe2\\xdf\\x10\\x1b\\xaa)\\xe0\\x8f\\x9am-7c<\\x07\\x8a\\xaa (\\xe1\\x9d\\xb0\\x81b\\xbbf\\xeb\\x14A'\n",
      "b'plain_text'\n"
     ]
    }
   ],
   "source": [
    "N=getPrime(256)\n",
    "e=65537\n",
    "msg=b'plain_text'\n",
    "c=long_to_bytes(pow(bytes_to_long(msg),e,N))\n",
    "print(f\"cipher_text = {c}\")\n",
    "d=inverse(e,N-1)\n",
    "print(long_to_bytes(pow(bytes_to_long(c),d,N)))\n",
    "                \n"
   ]
  },
  {
   "cell_type": "markdown",
   "metadata": {},
   "source": [
    "<h2>N = p<sup>2</sup> where p is a prime </h2>\n",
    "whe know that $\\phi(p^{2})=p*(p-1)$ ,so we can calculate p and then  find d."
   ]
  },
  {
   "cell_type": "code",
   "execution_count": 7,
   "metadata": {},
   "outputs": [
    {
     "name": "stdout",
     "output_type": "stream",
     "text": [
      "cipher_text = b'8\\xa7\\x1fY%\\xb5\\x81\\xc8_\\xa2\\x98G\\x12F`\\x85\\x02\\x9b\\x85F\\x0c\\x9f`T\\xe8\\x0b\\x9e\\x15\\x17\"\\x9aKC\\x86\\xb7\\x7fS\\xc5\\xbe\\xe8\\xfb]\\x12\\x0f\\xbb\\xec\\x9d\\x94g\\xb8&c\\xa00{8\\x12\\x0cX\\xb2\\x88\\xeaA\\xf5'\n",
      "b'plain_text'\n"
     ]
    }
   ],
   "source": [
    "p=getPrime(256)\n",
    "N=p**2\n",
    "e=65537\n",
    "msg=b'plain_text'\n",
    "c=long_to_bytes(pow(bytes_to_long(msg),e,N))\n",
    "print(f\"cipher_text = {c}\")\n",
    "#Newton's method\n",
    "def sqrt(n):\n",
    "    x = n\n",
    "    y = (x + 1) // 2\n",
    "    while y < x:\n",
    "        x = y\n",
    "        y = (x + n // x) // 2\n",
    "    return x\n",
    "q=sqrt(N)\n",
    "d=inverse(e,q*(q-1))\n",
    "print(long_to_bytes(pow(bytes_to_long(c),d,N)))"
   ]
  },
  {
   "cell_type": "markdown",
   "metadata": {},
   "source": [
    "<h2>Big N,small e</h2>\n",
    "$ msg^{e} \\equiv msg^{e} [N] \\implies c=msg^{e}$ , so it suffices to calculate $c^{\\dfrac{1}{3}}= msg$"
   ]
  },
  {
   "cell_type": "code",
   "execution_count": 15,
   "metadata": {},
   "outputs": [
    {
     "name": "stdout",
     "output_type": "stream",
     "text": [
      "cipher_text = b'\\x15\\xaex<\\x08:\\xe3\\xc3\\xaa\\xe6Bj\\xf8tc\\x06\\xc3\\xec\\x89\\xd2\\x81\\xbb\\xd0\\xfdc\\x1f\\xf7rQ@'\n",
      "b'plain_text'\n"
     ]
    }
   ],
   "source": [
    "p=getPrime(512)\n",
    "q=getPrime(512)\n",
    "N=p*q\n",
    "e=3\n",
    "msg=b'plain_text'\n",
    "c=long_to_bytes(pow(bytes_to_long(msg),e,N))\n",
    "print(f\"cipher_text = {c}\")\n",
    "#Newton's method\n",
    "def kroot(k, n):\n",
    "    u, s = n, n+1\n",
    "    while u < s:\n",
    "        s = u\n",
    "        t = (k-1) * s + n // pow(s, k-1)\n",
    "        u = t // k\n",
    "    return s\n",
    "\n",
    "print(long_to_bytes(iroot(3,bytes_to_long(c))))\n",
    "\n",
    "\n"
   ]
  },
  {
   "cell_type": "code",
   "execution_count": null,
   "metadata": {},
   "outputs": [],
   "source": []
  }
 ],
 "metadata": {
  "kernelspec": {
   "display_name": "Python 3",
   "language": "python",
   "name": "python3"
  },
  "language_info": {
   "codemirror_mode": {
    "name": "ipython",
    "version": 3
   },
   "file_extension": ".py",
   "mimetype": "text/x-python",
   "name": "python",
   "nbconvert_exporter": "python",
   "pygments_lexer": "ipython3",
   "version": "3.8.5"
  }
 },
 "nbformat": 4,
 "nbformat_minor": 4
}
