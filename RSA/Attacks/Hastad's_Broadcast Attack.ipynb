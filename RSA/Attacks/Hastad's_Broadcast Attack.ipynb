{
 "cells": [
  {
   "cell_type": "markdown",
   "metadata": {},
   "source": [
    "<h1>Introduction</h1>\n",
    "One of the most known attacks on RSA is the Hastad's Broadcast , which based on the chinese remainder theorem CRT .\n",
    "<h2>CRT</h2>\n",
    "let $N_{1},N_{2},...,N_{k} , gcd(N_{i},N_{j})=1 $ ,so\n",
    "the system $$ x \\equiv a_{1} [N1] \\\\ x \\equiv a_{2} [N2]  \\\\ .\\\\ . \\\\. \\\\ x \\equiv a_{k} [Nk] \n",
    " $$<br> has a unique solution which is : $$ x=\\sum_{i=1}^{k} (b_{k}* a_{k} ) \\equiv [N] $$ <br>\n",
    " where $$ N=\\prod_{i=1}^{k} N_{k} \\quad and \\quad b_{k}* N * N_{k}^{-1} \\equiv 1[N_k] $$\n",
    "\n",
    "<h2>The Hastad's Attack </h2>\n",
    "let k=3 , and suppose that we encrypt the same message with the same exponent e and with 3 differents Moduli (N1,N2 and N3) where $gcd(N_{i},N_{j}) = 1$ , $C1 \\equiv M^{3} [N1] , C2 \\equiv M^{3} [N2] and C3 \\equiv M^{3} [N3]$\n",
    "so we can use the CRT to recover M^{3} then calculate M.\n",
    "   "
   ]
  },
  {
   "cell_type": "code",
   "execution_count": 8,
   "metadata": {},
   "outputs": [],
   "source": [
    "from Crypto.Util.number import inverse,getPrime,bytes_to_long,long_to_bytes"
   ]
  },
  {
   "cell_type": "code",
   "execution_count": 4,
   "metadata": {},
   "outputs": [],
   "source": [
    "def CRT(res=[],mod=[]):\n",
    " n=1\n",
    " for x in mod:\n",
    "     n*=x\n",
    " s=0\n",
    " for i in range(0, len(mod)):\n",
    "     s = s + (inverse(n // mod[i], mod[i]) * res[i] * (n // mod[i]))\n",
    " return s%n"
   ]
  },
  {
   "cell_type": "code",
   "execution_count": 9,
   "metadata": {},
   "outputs": [],
   "source": [
    "#Newton's method \n",
    "def kroot(k, n):\n",
    "    u, s = n, n+1\n",
    "    while u < s:\n",
    "        s = u\n",
    "        t = (k-1) * s + n // pow(s, k-1)\n",
    "        u = t // k\n",
    "    return s"
   ]
  },
  {
   "cell_type": "code",
   "execution_count": 10,
   "metadata": {},
   "outputs": [],
   "source": [
    "p1,p2,p3=getPrime(512),getPrime(512),getPrime(512)\n",
    "e=3\n",
    "msg=b'plain_text'\n",
    "c1=pow(bytes_to_long(msg),e,p1)\n",
    "c2=pow(bytes_to_long(msg),e,p2)\n",
    "c3=pow(bytes_to_long(msg),e,p3)\n",
    "\n",
    "res=[c1,c2,c3]\n",
    "mod=[p1,p2,p3]"
   ]
  },
  {
   "cell_type": "code",
   "execution_count": 13,
   "metadata": {},
   "outputs": [
    {
     "name": "stdout",
     "output_type": "stream",
     "text": [
      "b'plain_text'\n"
     ]
    }
   ],
   "source": [
    "def Hastad(res,mod):\n",
    "    msg=CRT(res,mod)\n",
    "    return kroot(3,msg)\n",
    "print(long_to_bytes(Hastad(res,mod)))"
   ]
  }
 ],
 "metadata": {
  "kernelspec": {
   "display_name": "Python 3",
   "language": "python",
   "name": "python3"
  },
  "language_info": {
   "codemirror_mode": {
    "name": "ipython",
    "version": 3
   },
   "file_extension": ".py",
   "mimetype": "text/x-python",
   "name": "python",
   "nbconvert_exporter": "python",
   "pygments_lexer": "ipython3",
   "version": "3.8.5"
  }
 },
 "nbformat": 4,
 "nbformat_minor": 4
}
