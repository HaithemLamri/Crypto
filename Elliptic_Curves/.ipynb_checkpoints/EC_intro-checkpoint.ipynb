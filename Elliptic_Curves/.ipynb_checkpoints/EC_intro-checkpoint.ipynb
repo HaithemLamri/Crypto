{
 "cells": [
  {
   "cell_type": "markdown",
   "metadata": {},
   "source": [
    "<h1>Elliptic Curves </h1>\n",
    "an elliptic curve is a set of points that satisfy a specifc polynomial equation.\n",
    "and we will work with the Weierstrass equation : $$ E_{a,b} :  y^{2} = x^{3}+ ax +b $$for some real numbers a and b where\n",
    " $$ \\Delta = -16(4a^{3}+27b^{2}) \\neq 0$$."
   ]
  },
  {
   "cell_type": "code",
   "execution_count": 1,
   "metadata": {},
   "outputs": [],
   "source": [
    "import numpy as np\n",
    "import matplotlib.pyplot as plt"
   ]
  },
  {
   "cell_type": "code",
   "execution_count": 2,
   "metadata": {},
   "outputs": [
    {
     "data": {
      "image/png": "[encoded data removed]",
      "text/plain": [
       "<Figure size 432x288 with 1 Axes>"
      ]
     },
     "metadata": {
      "needs_background": "light"
     },
     "output_type": "display_data"
    }
   ],
   "source": [
    "def E(a,b):\n",
    "    y, x = np.ogrid[-4:4:100j, -4:4:100j]\n",
    "   \n",
    "    return pow(y, 2) - pow(x, 3) - x * a - b \n",
    "#example\n",
    "a,b=-2,4\n",
    "y, x = np.ogrid[-4:4:100j, -4:4:100j]\n",
    "plt.contour(x.ravel(), y.ravel(),E(a,b), [0])\n",
    "plt.show()"
   ]
  },
  {
   "cell_type": "markdown",
   "metadata": {},
   "source": [
    "<h2>Magma</h2>\n",
    "the points on the Weierstrass's ellptic curves form an  abelian group .\n",
    "<h3>proprieties</h3>\n",
    "let P,Q and R $ \\in $ E .\n",
    "<ul>\n",
    "    <li>P+O=P, where O=(0,0) represents the neutral element in Weierstrass Curves</li>\n",
    "    <li> P-P=O,-P is the negation point</li>\n",
    "    <li> P+Q=Q+P </li>\n",
    "    <li> P+(Q+R)=(P+Q)+R</li>\n",
    "</ul>\n",
    "and here you can find the addition formula <a href=\"https://www.certicom.com/content/certicom/en/21-elliptic-curve-addition-a-geometric-approach.html#:~:text=The%20addition%20of%20two%20points,is%20also%20on%20the%20curve.\"> here</a>.<br>\n",
    "and below you find the implementation and the animation of points addition\n",
    "\n",
    "\n"
   ]
  },
  {
   "cell_type": "code",
   "execution_count": 3,
   "metadata": {},
   "outputs": [
    {
     "name": "stdout",
     "output_type": "stream",
     "text": [
      "P + Q = (1.3333333333333335, -1.9245008972987525)\n"
     ]
    },
    {
     "data": {
      "text/plain": [
       "<matplotlib.contour.QuadContourSet at 0x7f71912801c0>"
      ]
     },
     "execution_count": 3,
     "metadata": {},
     "output_type": "execute_result"
    },
    {
     "data": {
      "image/png": "[encoded data removed]",
      "text/plain": [
       "<Figure size 432x288 with 1 Axes>"
      ]
     },
     "metadata": {
      "needs_background": "light"
     },
     "output_type": "display_data"
    }
   ],
   "source": [
    "def add(P,Q):\n",
    "    x_p,y_p=P\n",
    "    x_q,y_q=Q\n",
    "    if x_q==0 and y_q==0:\n",
    "       return P\n",
    "    elif x_p==x_q and y_p ==-y_q :\n",
    "        return (0,0) \n",
    "    else:\n",
    "        lam=0\n",
    "        if P != Q :\n",
    "           lam = (y_q - y_p)/(x_q - x_p) \n",
    "        else : \n",
    "           lam =(3*(x_p**2) + self.EC.a) / (2*y_p) \n",
    "        x_r = lam**2 - x_p - x_q\n",
    "        y_r = lam*(x_p - x_r) - y_p\n",
    "        return (x_r, y_r)\n",
    "P=(-2,0)\n",
    "Q=(1,np.sqrt(3))\n",
    "x_r,y_r=add(P,Q)\n",
    "R,R_neg=(x_r,y_r),(x_r,-y_r)\n",
    "print(f\"P + Q = {R}\")\n",
    "\n",
    "#plot the points\n",
    "plt.plot(*P, 'ro')\n",
    "plt.annotate('P', xy=P, xytext=(-4, 4), textcoords='offset points')\n",
    "plt.plot(*Q, 'yo')\n",
    "plt.annotate('Q', xy=Q, xytext=(-4, 4), textcoords='offset points')\n",
    "plt.plot(*R, 'go')\n",
    "plt.annotate('P+Q', xy=R, xytext=(-4, 4), textcoords='offset points')\n",
    "plt.plot(*R_neg, 'ro')\n",
    "plt.annotate('-R', xy=R_neg, xytext=(-4, 4), textcoords='offset points')\n",
    "\n",
    "#plot the lines\n",
    "plt.plot([P[0], R_neg[0]], [P[1], R_neg[1]],)\n",
    "plt.plot([R[0], R_neg[0]], [R[1], R_neg[1]],)\n",
    "#plot the curve\n",
    "plt.contour(x.ravel(), y.ravel(), E(a,b), [0])"
   ]
  },
  {
   "cell_type": "markdown",
   "metadata": {},
   "source": [
    "<h2>The implementation </h2>"
   ]
  },
  {
   "cell_type": "code",
   "execution_count": 4,
   "metadata": {},
   "outputs": [],
   "source": [
    "class EllipticCurve(object):\n",
    "     def __init__(self, a, b):\n",
    "        self.a = a\n",
    "        self.b = b\n",
    "        self.delta = -16 * (4 * a**3 + 27 * b**2)\n",
    "        if not self.is_smooth():\n",
    "            print(f\"the curve {self} is smooth!!\")\n",
    "        \n",
    "     def is_smooth(self):\n",
    "        return self.delta != 0\n",
    "    \n",
    "    \n",
    "     def is_in_the_curve(self, x, y):\n",
    "        return pow(y, 2) == pow(x, 3) + self.a * x + self.b\n",
    "    \n",
    "    \n",
    "     def __str__(self):\n",
    "        return (f\"y^2 = x^3 + {self.a}x + {self.b}\")\n",
    "     def visualize_cruve(self):\n",
    "          y, x = np.ogrid[-4:4:100j, -4:4:100j]\n",
    "          a,b=self.a,self.b\n",
    "          plt.contour(x.ravel(), y.ravel(),pow(y,2) - pow(x,3) - a * x + b, [0])\n",
    "          plt.show()\n",
    "        "
   ]
  },
  {
   "cell_type": "code",
   "execution_count": 5,
   "metadata": {},
   "outputs": [],
   "source": [
    "class Point(object): \n",
    "    \n",
    "    def __init__(self, EC, x, y):\n",
    "            self.EC = EC\n",
    "            self.x = x\n",
    "            self.y = y\n",
    "            \n",
    "            if not EC.is_in_the_curve(x, y) and ( (x!=0) and (y!=0)):\n",
    "                print(f\"The point{self} isn't in the curve {EC}\")\n",
    "                 \n",
    "    def neg(self):\n",
    "        return Point(self.EC, self.x, -self.y)\n",
    "    \n",
    "    \n",
    "    \n",
    "    \n",
    "    def add(self,p):\n",
    "        if p.x==0 and p.y==0:\n",
    "           return self \n",
    "        elif self.x==p.x and self.y == -p.y :\n",
    "            return Point(self.EC,0,0) \n",
    "        else:\n",
    "            lam=0\n",
    "            if self!= p :\n",
    "               lam = (p.y - self.y)/(p.x - self.x) \n",
    "            else : \n",
    "               lam =(3 * (self.x**2) + self.EC.a) / (2 * self.y) \n",
    "            x_r = lam**2 - self.x - p.x\n",
    "            y_r = lam*(self.x - x_r) - self.y\n",
    "            return Point(self.EC,x_r, y_r)\n",
    "    \n",
    "    \n",
    "    def sub(self, p):\n",
    "        return self.add(neg(p))\n",
    "    \n",
    "    \n",
    "    def mul(self, n):\n",
    "        if not isinstance(n, int):\n",
    "            raise Exception (\"we can't multiply with a non integer\")\n",
    "        else:\n",
    "            if n<0:\n",
    "                return -self * -n\n",
    "            if n == 0:\n",
    "                return Point(self.curve, 0, 0) \n",
    "            #Double_and_Add\n",
    "            else:\n",
    "                Q = self\n",
    "                R = self if n & 1 == 1 else Point(self.EC, 0, 0) \n",
    "                \n",
    "                i = 2\n",
    "                while i<=n:\n",
    "                    Q = Q.add(Q)\n",
    "                    if n & i == i:\n",
    "                        R = Q.add(R)\n",
    "                    i = i << 1\n",
    "        return R\n",
    "    \n",
    "    def isEqual(self, p):\n",
    "        if(self.EC == p.EC and self.x == p.x and self.y == p.y):\n",
    "            return True\n",
    "        else:\n",
    "            return False\n",
    "        \n",
    "    def __str__(self):\n",
    "        return (f\"({self.x},{self.y})\")\n",
    "    \n",
    "    \n",
    "    "
   ]
  },
  {
   "cell_type": "code",
   "execution_count": 6,
   "metadata": {},
   "outputs": [
    {
     "name": "stdout",
     "output_type": "stream",
     "text": [
      "p + q = (0,0)\n",
      "True\n"
     ]
    }
   ],
   "source": [
    "\n",
    "E= EllipticCurve(a = 3, b = 5)\n",
    "p = Point(E, 1, 3)\n",
    "q = Point(E, 1, -3)\n",
    "print(f\"p + q = {p.add(q)}\")\n",
    "print(p.add(p).isEqual(p.mul(2)))\n"
   ]
  },
  {
   "cell_type": "code",
   "execution_count": null,
   "metadata": {},
   "outputs": [],
   "source": []
  }
 ],
 "metadata": {
  "kernelspec": {
   "display_name": "Python 3",
   "language": "python",
   "name": "python3"
  },
  "language_info": {
   "codemirror_mode": {
    "name": "ipython",
    "version": 3
   },
   "file_extension": ".py",
   "mimetype": "text/x-python",
   "name": "python",
   "nbconvert_exporter": "python",
   "pygments_lexer": "ipython3",
   "version": "3.8.10"
  }
 },
 "nbformat": 4,
 "nbformat_minor": 4
}
