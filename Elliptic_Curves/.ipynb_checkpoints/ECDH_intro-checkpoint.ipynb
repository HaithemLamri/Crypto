{
 "cells": [
  {
   "cell_type": "markdown",
   "metadata": {},
   "source": [
    "<h1>Elliptic Cruve Diffie-Hellman </h1>\n",
    "in this notebook i'll try to explain the Diffie-Hellman's key exchange protocol Elleptic Cuvre version.\n",
    "<h2>Elliptic Curve over finite fields </h2>\n",
    "in the DH protocol we work on the integers group $ Z_{n} $, but in the ECDH we will work with EC over finite fields and we note $ E(\\mathbb{F}_{p}) $,\n",
    "in a clear term in an EC over finite field we are interested on the EC's points that belong to that fields \n",
    "(e.g if $ \\mathbb{F} = \\mathbb{Q}$ we are interested only on  the rational points of curve E.)\n",
    "and for the DH we will chose $\\mathbb{Z}_{p}$ as a field where p is a (256 bits) prime"
   ]
  },
  {
   "cell_type": "code",
   "execution_count": 56,
   "metadata": {},
   "outputs": [],
   "source": [
    "from Crypto.Util.number import getPrime,inverse\n",
    "from Crypto.Util.Padding import pad, unpad\n",
    "import matplotlib.pyplot as plt\n",
    "from Crypto.Cipher import AES\n",
    "from random import randint\n",
    "import numpy as np\n",
    "import hashlib\n",
    "import os\n",
    "\n",
    "\n"
   ]
  },
  {
   "cell_type": "code",
   "execution_count": 3,
   "metadata": {},
   "outputs": [
    {
     "name": "stderr",
     "output_type": "stream",
     "text": [
      "<ipython-input-3-43521a3d52e1>:11: UserWarning: No contour levels were found within the data range.\n",
      "  plt.contour(x.ravel(), y.ravel(),E(a,b,p), [0])\n"
     ]
    },
    {
     "data": {
      "image/png": "[encoded data removed]",
      "text/plain": [
       "<Figure size 432x288 with 1 Axes>"
      ]
     },
     "metadata": {
      "needs_background": "light"
     },
     "output_type": "display_data"
    }
   ],
   "source": [
    "\"p = getPrime(256)\"\n",
    "p = 85347454784018416893325519594186155831927915289184679356907899837050668265637\n",
    "\n",
    "def E(a,b,p):\n",
    "    y, x = np.ogrid[-4:4:100j, -4:4:100j]\n",
    "   \n",
    "    return (pow(y, 2) - (pow(x, 3) - x * a - b)  ) %p \n",
    "#example\n",
    "a,b=-2,4\n",
    "y, x = np.ogrid[-4:4:100j, -4:4:100j]\n",
    "plt.contour(x.ravel(), y.ravel(),E(a,b,p), [0])\n",
    "plt.show()"
   ]
  },
  {
   "cell_type": "code",
   "execution_count": 36,
   "metadata": {},
   "outputs": [],
   "source": [
    "class EllipticCurve(object):\n",
    "     def __init__(self, a, b, p):\n",
    "        self.a = a \n",
    "        self.b = b\n",
    "        self.p = p\n",
    "        self.delta = -16 * (4 * a**3 + 27 * b**2) % self.p\n",
    "        if not self.is_smooth():\n",
    "            print(f\"the curve {self} is not smooth!!\")\n",
    "        \n",
    "     def is_smooth(self):\n",
    "        return self.delta != 0\n",
    "    \n",
    "    \n",
    "     def is_in_the_curve(self, x, y):\n",
    "        return pow(y, 2,self.p)  ==  ((pow(x, 3,self.p) + self.a * x + self.b) % self.p)\n",
    "    \n",
    "    \n",
    "     def __str__(self):\n",
    "        return (f\"y^2 = x^3 + {self.a}x + {self.b} mod  {self.p}\")\n",
    "     def visualize_cruve(self):\n",
    "          y, x = np.ogrid[-4:4:100j, -4:4:100j]\n",
    "          a,b=self.a,self.b\n",
    "          plt.contour(x.ravel(), y.ravel(),pow(y,2) - pow(x,3) - a * x + b, [0])\n",
    "          plt.show()"
   ]
  },
  {
   "cell_type": "code",
   "execution_count": 51,
   "metadata": {},
   "outputs": [],
   "source": [
    "class Point(object): \n",
    "    \n",
    "    def __init__(self, EC, x, y):\n",
    "            self.EC = EC\n",
    "            self.p = self.EC.p\n",
    "            self.x = x % self.p\n",
    "            self.y = y % self.p\n",
    "        \n",
    "            \n",
    "            if (not EC.is_in_the_curve(self.x, self.y)) and ( (x!=0) and (y!=0)):\n",
    "                print(f\"The point{self} isn't in the curve {EC}\")\n",
    "                 \n",
    "    def neg(self):\n",
    "        return Point(self.EC, self.x, -self.y % self.p)\n",
    "    \n",
    "    \n",
    "    \n",
    "    \n",
    "    def add(self,P):\n",
    "        if P.x==0 and P.y==0:\n",
    "           return self \n",
    "        elif self.x == P.x and self.y == -P.y % self.p :\n",
    "            return Point(self.EC,0,0) \n",
    "        else:\n",
    "            lam=0\n",
    "            if self!= P :\n",
    "               lam = ( (P.y - self.y) * inverse((P.x - self.x) ,self.p ) ) % self.p\n",
    "            else : \n",
    "               lam = ((3 * (self.x**2) + self.EC.a) * inverse((2 * self.y) ,self.p)) % self.p\n",
    "            x_r = (lam**2 - self.x - P.x) % self.p\n",
    "            y_r =  (lam*(self.x - x_r) - self.y) % self.p\n",
    "            return Point(self.EC,x_r, y_r)\n",
    "    \n",
    "    \n",
    "    def sub(self, p):\n",
    "        return self.add(neg(p))\n",
    "    \n",
    "    \n",
    "    def mul(self, n):\n",
    "        if not isinstance(n, int):\n",
    "            raise Exception (\"we can't multiply with a non integer\")\n",
    "        else:\n",
    "            if n<0:\n",
    "                return -self * -n\n",
    "            if n == 0:\n",
    "                return Point(self.curve, 0, 0) \n",
    "            #Double_and_Add\n",
    "            else:\n",
    "                Q = self\n",
    "                R = self if n & 1 == 1 else Point(self.EC, 0, 0) \n",
    "                \n",
    "                i = 2\n",
    "                while i<=n:\n",
    "                    Q = Q.add(Q)\n",
    "                    if n & i == i:\n",
    "                        R = Q.add(R)\n",
    "                    i = i << 1\n",
    "        return R\n",
    "    \n",
    "    def isEqual(self, p):\n",
    "        if(self.EC == p.EC and self.x == p.x and self.y == p.y):\n",
    "            return True\n",
    "        else:\n",
    "            return False\n",
    "        \n",
    "    def __str__(self):\n",
    "        return (f\"({self.x},{self.y})\")\n",
    "    "
   ]
  },
  {
   "cell_type": "markdown",
   "metadata": {},
   "source": [
    "<h2> Key Exchange </h2>\n",
    "Suppose that Bob and Alice want to communicate through a secure chanel using the ECDH."
   ]
  },
  {
   "cell_type": "code",
   "execution_count": 54,
   "metadata": {},
   "outputs": [
    {
     "name": "stdout",
     "output_type": "stream",
     "text": [
      "False\n",
      "Alice's_Public_Key = (29640370159964989253147211432020650536680501697227600599500389899056410553043,29086827452905640286899205154769966697052048260960522212782799720862308744862)\n",
      "Bob's_Public_Key = (35689366576939404200968533102141019184504578752188814464568620536917431655871,34939484593681951475448546773680449670424933115512426277776032131475863831935)\n"
     ]
    }
   ],
   "source": [
    "#the curve\n",
    "E = EllipticCurve(a =  1, b = 2, p = 85347454784018416893325519594186155831927915289184679356907899837050668265637)\n",
    "#the generator\n",
    "G = Point(E, 78914171132391128638159299996260355171298815597163094246018396104959376607073, 24295064375280632188902228344690963867143996439980967976867547372543480475204)\n",
    "\n",
    "\n",
    "print( (pow(y,2,p) == ((pow(x,3,p) + x + 2)%p) ))\n",
    "def getKey():\n",
    "    n = randint(1,99999)\n",
    "    P = G.mul(n)\n",
    "    return n,P\n",
    "\n",
    "#Alice's Key\n",
    "na ,Pa= getKey()\n",
    "#Alice_Private_Key = na\n",
    "print(f\"Alice's_Public_Key = {Pa}\")\n",
    "#Bob's Key\n",
    "nb ,Pb= getKey()\n",
    "#Bob_Private_Key = nb\n",
    "print(f\"Bob's_Public_Key = {Pb}\")\n",
    "\n",
    "assert  Pb.mul(na).x == Pa.mul(nb).x\n",
    "\n",
    "\n",
    "shared_secret = Pb.mul(na).x \n",
    "\n",
    "\n"
   ]
  },
  {
   "cell_type": "code",
   "execution_count": 57,
   "metadata": {},
   "outputs": [
    {
     "name": "stdout",
     "output_type": "stream",
     "text": [
      "Alice send to Bob : {'iv': 'e586b779131ef53aae86473a00991051', 'encrypted_message': '66e921082554c8576616d93c5ebb03d46f89e6d48e51db3f9e0fb96a796dba9e'}\n",
      " the decrypted message is : this is a secret message \n"
     ]
    }
   ],
   "source": [
    "#this is a sample of the encryption using AES-CBC mode \n",
    "\n",
    "Message=b'this is a secret message'\n",
    "\n",
    "def encrypt(shared_secret: int):\n",
    "    # Derive AES key from shared secret\n",
    "    sha1 = hashlib.sha1()\n",
    "    sha1.update(str(shared_secret).encode('ascii'))\n",
    "    key = sha1.digest()[:16]\n",
    "    iv = os.urandom(16)\n",
    "    cipher = AES.new(key, AES.MODE_CBC, iv)\n",
    "    ciphertext = cipher.encrypt(pad(Message, 16))\n",
    "    # Prepare data to send\n",
    "    data = {}\n",
    "    data['iv'] = iv.hex()\n",
    "    data['encrypted_message'] = ciphertext.hex()\n",
    "    return data\n",
    "\n",
    "encrypted=encrypt(shared_secret)\n",
    "print(f\"Alice send to Bob : {encrypted}\")\n",
    "\n",
    "def is_pkcs7_padded(message):\n",
    "    padding = message[-message[-1]:]\n",
    "    return all(padding[i] == len(padding) for i in range(0, len(padding)))\n",
    "\n",
    "\n",
    "def decrypt(shared_secret: int, iv: str, ciphertext: str):\n",
    "    # Derive AES key from shared secret\n",
    "    sha1 = hashlib.sha1()\n",
    "    sha1.update(str(shared_secret).encode('ascii'))\n",
    "    key = sha1.digest()[:16]\n",
    "    ciphertext = bytes.fromhex(ciphertext)\n",
    "    iv = bytes.fromhex(iv)\n",
    "    cipher = AES.new(key, AES.MODE_CBC, iv)\n",
    "    plaintext = cipher.decrypt(ciphertext)\n",
    "\n",
    "    if is_pkcs7_padded(plaintext):\n",
    "        return unpad(plaintext, 16).decode('ascii')\n",
    "    else:\n",
    "        return plaintext.decode('ascii')\n",
    "\n",
    "\n",
    "decrypted=decrypt(shared_secret,encrypted['iv'],encrypted['encrypted_message'])\n",
    "print(f\" the decrypted message is : {decrypted} \")"
   ]
  }
 ],
 "metadata": {
  "kernelspec": {
   "display_name": "Python 3",
   "language": "python",
   "name": "python3"
  },
  "language_info": {
   "codemirror_mode": {
    "name": "ipython",
    "version": 3
   },
   "file_extension": ".py",
   "mimetype": "text/x-python",
   "name": "python",
   "nbconvert_exporter": "python",
   "pygments_lexer": "ipython3",
   "version": "3.8.5"
  }
 },
 "nbformat": 4,
 "nbformat_minor": 4
}
