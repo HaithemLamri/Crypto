{
 "cells": [
  {
   "cell_type": "markdown",
   "metadata": {},
   "source": [
    "<h1> Singular Curves </h1>\n",
    "Although , EC provide a high level of security , there are some weak curves where the ECDLP become much easier to break, singular curves one of them .it's enough to check the singularity of the curve , then we use some isomorphismes to map the points into $\\mathbb{Z}_{p}$\n",
    "we call a  curve  singular when its determinant $\\equiv 0 [p]$ ."
   ]
  },
  {
   "cell_type": "code",
   "execution_count": 1,
   "metadata": {},
   "outputs": [],
   "source": [
    "from Crypto.Util.number import *\n",
    "import matplotlib.pyplot as plt\n",
    "import numpy as np\n",
    "from sage.all import *\n"
   ]
  },
  {
   "cell_type": "markdown",
   "metadata": {},
   "source": [
    "<h2> Nodes </h2>\n",
    "A Node is a curve with the equation :$$ (E): y^{2} = x^{2} * (x +k) , with \\quad k \\in \\mathbb{Z} $$.\n",
    "And we notice that the equation $ y = 0 $ has a double solution k, and that's the point of weaknes of nodes because it's trivial that the determinant = 0 in this case .\n"
   ]
  },
  {
   "cell_type": "code",
   "execution_count": 3,
   "metadata": {},
   "outputs": [
    {
     "data": {
      "image/png": "[encoded data removed]",
      "text/plain": [
       "<Figure size 432x288 with 1 Axes>"
      ]
     },
     "metadata": {},
     "output_type": "display_data"
    }
   ],
   "source": [
    "y, x = np.ogrid[-4:4:100j, -4:4:100j]\n",
    "plt.contour(x.ravel(), y.ravel(),pow(y, 2) - x * pow(x-2 , 2), [0])\n",
    "plt.title(\"Node\")\n",
    "plt.style.use(\"ggplot\")\n",
    "plt.show()"
   ]
  },
  {
   "cell_type": "markdown",
   "metadata": {},
   "source": [
    "<h2>The Math behind the attack</h2>\n",
    "Our aim is to map the curve points to $Z_{p}$, let us observe the singularity again : <br>\n",
    "$$ (E): y^{2} = x^{2} * (x+k), \\implies y = \\sqrt{x+k} * \\left|x \\right|  $$\n",
    "the point (0,0) represents the singularity \n",
    "\n",
    "and $$ \\lim_{x \\to 0} \\dfrac{dy}{dx} = \\pm\\sqrt{k} $$, so the tangent will be $$ y = \\pm\\sqrt{k}x $$\n",
    "<h3> the isomorphisme </h3>\n",
    "Let  $$ \\phi : (E) \\to (\\mathbb{Z}_{p},*) ,  \\\\\n",
    "x \\to \\dfrac{y+\\sqrt{k}x}{y-\\sqrt{k}x} $$ , we can prove that $\\phi$ is a valide isomorphisme easily .<br>\n",
    "\n",
    "Note : in this Notebook we will process the case where k is a complete square.\n",
    "so we will chose a prime p in the form 4m+3 to make the quadratic residus problem  much easier.\n",
    "<h2>The Code </h2>"
   ]
  },
  {
   "cell_type": "code",
   "execution_count": 4,
   "metadata": {},
   "outputs": [
    {
     "data": {
      "text/plain": [
       "181870022725998048457266960991"
      ]
     },
     "execution_count": 4,
     "metadata": {},
     "output_type": "execute_result"
    }
   ],
   "source": [
    "while True:\n",
    "    q = getPrime(96)\n",
    "    p = 4*q +3\n",
    "    if isPrime(p) :\n",
    "        break\n",
    "p\n",
    "    \n"
   ]
  },
  {
   "cell_type": "code",
   "execution_count": 5,
   "metadata": {},
   "outputs": [],
   "source": [
    "from collections import namedtuple\n",
    "from Crypto.Util.number import inverse\n",
    "\n",
    "Point = namedtuple(\"Point\", \"x y\")\n",
    "\n",
    "O = Point(0,0)\n",
    "\n",
    "class EllipticCurve(object):\n",
    "        def __init__(self,prime,a,b,c):\n",
    "            self.p = prime\n",
    "            self.a = a\n",
    "            self.b = b\n",
    "            self.c = c\n",
    "            \n",
    "        \n",
    "\n",
    "\n",
    "        def check_point(self,P):\n",
    "            if P == O:\n",
    "                return True\n",
    "            else:\n",
    "                return ((pow(P.y,2,self.p) - (P.x**3 + self.a * P.x**2 + self.b*P.x + self.c)) % self.p == 0 )and 0 <= int(P.x) < self.p and 0 <= int(P.y) < self.p\n",
    "\n",
    "\n",
    "        def point_inverse(self,P):\n",
    "            if P == O:\n",
    "                return P\n",
    "            return Point(P.x, -P.y % self.p)\n",
    "\n",
    "\n",
    "        def point_addition(self,P, Q):\n",
    "            if P == O:\n",
    "                return Q\n",
    "            elif Q == O:\n",
    "                return P\n",
    "            elif Q == self.point_inverse(P):\n",
    "                return O\n",
    "            else:\n",
    "                if P == Q:\n",
    "                    lam = (3*P.x**2 + self.a*2*P.x + self.b) * inverse(int((2*P.y)), self.p)\n",
    "                    lam %= self.p\n",
    "                else:\n",
    "                    lam = (Q.y - P.y) * inverse(int((Q.x - P.x)), self.p)\n",
    "                    lam %= self.p\n",
    "            Rx = (lam**2 - self.a - P.x - Q.x) % self.p\n",
    "            m = (P.y - lam * P.x) % self.p\n",
    "            Ry = -(lam*Rx + m) % self.p\n",
    "            R = Point(Rx, Ry)\n",
    "            #assert check_point(R)\n",
    "            return R\n",
    "\n",
    "\n",
    "        def double_and_add(self,n, P):\n",
    "            Q = P\n",
    "            R = O\n",
    "            while n > 0:\n",
    "                if n % 2 == 1:\n",
    "                    R = self.point_addition(R, Q)\n",
    "                Q = self.point_addition(Q, Q)\n",
    "                n = n // 2\n",
    "            #assert check_point(R)\n",
    "            return R\n",
    "        def __str__(self):\n",
    "            return f\"Elliptic Cuvre Over the field {self.p} defined as : x^3 + {self.a} x^2 + {self.b} x + {self.c} \"\n"
   ]
  },
  {
   "cell_type": "code",
   "execution_count": 8,
   "metadata": {},
   "outputs": [
    {
     "data": {
      "text/plain": [
       "x^3 + 181870022725998048457266960983*x^2 + 16*x"
      ]
     },
     "execution_count": 8,
     "metadata": {},
     "output_type": "execute_result"
    }
   ],
   "source": [
    "#define the node\n",
    "k = 4\n",
    "P.<x> = PolynomialRing(GF(p))\n",
    "f = x * (x - k)**2\n",
    "\n",
    "f"
   ]
  },
  {
   "cell_type": "code",
   "execution_count": 9,
   "metadata": {},
   "outputs": [
    {
     "data": {
      "text/plain": [
       "'Elliptic Cuvre Over the field 181870022725998048457266960991 defined as : x^3 + 181870022725998048457266960983 x^2 + 16 x + 0 '"
      ]
     },
     "execution_count": 9,
     "metadata": {},
     "output_type": "execute_result"
    }
   ],
   "source": [
    "a,b,c = f[2],f[1],f[0]\n",
    "q = (p-3)//4\n",
    "E = EllipticCurve(p ,a,b,c)\n",
    "E.__str__()"
   ]
  },
  {
   "cell_type": "markdown",
   "metadata": {},
   "source": [
    "<h3> Test </h3>"
   ]
  },
  {
   "cell_type": "code",
   "execution_count": 10,
   "metadata": {},
   "outputs": [
    {
     "data": {
      "text/plain": [
       "True"
      ]
     },
     "execution_count": 10,
     "metadata": {},
     "output_type": "execute_result"
    }
   ],
   "source": [
    "\n",
    "G=Point(2, pow(f(2),q+1 , p ))\n",
    "#the generator\n",
    "G = E.double_and_add(8,G)\n",
    "\n",
    "E.check_point(G)\n"
   ]
  },
  {
   "cell_type": "code",
   "execution_count": 11,
   "metadata": {},
   "outputs": [
    {
     "data": {
      "text/plain": [
       "True"
      ]
     },
     "execution_count": 11,
     "metadata": {},
     "output_type": "execute_result"
    }
   ],
   "source": [
    "\n",
    "d = b'secret'  #the private key\n",
    "d = bytes_to_long(d)\n",
    "assert d < p-1\n",
    "#the public key\n",
    "Q = E.double_and_add(d,G)\n",
    "E.check_point(Q)"
   ]
  },
  {
   "cell_type": "code",
   "execution_count": 12,
   "metadata": {},
   "outputs": [],
   "source": [
    "def isomorph(P):\n",
    "    return ((int(P.y) + 2 * int(P.x)) * inverse(int(P.y)  - 2 * int(P.x),p) )  % p\n",
    "\n"
   ]
  },
  {
   "cell_type": "code",
   "execution_count": 13,
   "metadata": {},
   "outputs": [
    {
     "data": {
      "text/plain": [
       "x^3 + 4*x^2"
      ]
     },
     "execution_count": 13,
     "metadata": {},
     "output_type": "execute_result"
    }
   ],
   "source": [
    "#first we have to shift f and its point to make it in the form y^2 = x^2 (x+k)\n",
    "f_shift = f.subs(x = x+k)\n",
    "f_shift"
   ]
  },
  {
   "cell_type": "code",
   "execution_count": 14,
   "metadata": {},
   "outputs": [
    {
     "name": "stdout",
     "output_type": "stream",
     "text": [
      "b'secret'\n"
     ]
    }
   ],
   "source": [
    "G_shift= Point((G.x -k) % p , G.y)\n",
    "Q_shift= Point((Q.x - k) % p, Q.y)\n",
    "\n",
    "\n",
    "q = Mod(isomorph(Q_shift),p)\n",
    "g = Mod(isomorph(G_shift),p)\n",
    "\n",
    "\n",
    "d_ = discrete_log(q,g)\n",
    "print(long_to_bytes(d_))"
   ]
  },
  {
   "cell_type": "markdown",
   "metadata": {},
   "source": [
    "<h2>Cusps</h2>\n",
    "A cusp is a curve with the equation : $$ y^{2} = x^{3}  \\quad with \\quad k  \\in \\mathbb{Z} $$  \n",
    "And in this case the equation $ y = 0 $ has triple solution k, and that's represent the point of weaknes of cups because it's trivial that the determinant = 0 in this case ."
   ]
  },
  {
   "cell_type": "code",
   "execution_count": 7,
   "metadata": {},
   "outputs": [
    {
     "data": {
      "image/png": "[encoded data removed]",
      "text/plain": [
       "<Figure size 432x288 with 1 Axes>"
      ]
     },
     "metadata": {},
     "output_type": "display_data"
    }
   ],
   "source": [
    "y, x = np.ogrid[-4:4:100j, -4:4:100j]\n",
    "plt.contour(x.ravel(), y.ravel(),pow(y, 2) - pow(x+2 , 3), [0])\n",
    "plt.title(\"Cusp\")\n",
    "plt.style.use(\"ggplot\")\n",
    "plt.show()"
   ]
  },
  {
   "cell_type": "markdown",
   "metadata": {},
   "source": [
    "<h2>The Math behind the attack</h2>\n",
    "Our aim is to map the curve points to $\\mathbb{Z}_{p}$, let us observe the singularity again : <br>\n",
    "$$ (E): y^{2} = x^{3}, \\implies y = x^{\\dfrac{3}{2}} $$\n",
    "the point (k,0) represents the singularity \n",
    "\n",
    "and $$ \\lim_{x \\to 0} \\dfrac{dy}{dx} = 0 $$, so the tangent will be $$ y = 0 $$\n",
    "<h3> the isomorphisme </h3>\n",
    "Let $$ \\phi : (E) \\to  (\\mathbb{Z}_{p},+)  ,  \\\\\n",
    "x \\to \\dfrac{x}{y} $$ , we can prove that $\\phi$ is a valide isomorphisme (proof for the reader :p).<br>\n",
    "\n",
    "<h2>The Code </h2>"
   ]
  },
  {
   "cell_type": "code",
   "execution_count": 48,
   "metadata": {},
   "outputs": [
    {
     "data": {
      "text/plain": [
       "x^3 + 353852509520510184915219022686735811213937867875*x^2 + 48*x + 353852509520510184915219022686735811213937867823"
      ]
     },
     "execution_count": 48,
     "metadata": {},
     "output_type": "execute_result"
    }
   ],
   "source": [
    "P.<x> = PolynomialRing(GF(p))\n",
    "k = 4\n",
    "f = (x-k)**3\n",
    "f"
   ]
  },
  {
   "cell_type": "code",
   "execution_count": 49,
   "metadata": {},
   "outputs": [
    {
     "data": {
      "text/plain": [
       "'Elliptic Cuvre Over the field 353852509520510184915219022686735811213937867887 defined as : x^3 + 353852509520510184915219022686735811213937867875 x^2 + 48 x + 353852509520510184915219022686735811213937867823 '"
      ]
     },
     "execution_count": 49,
     "metadata": {},
     "output_type": "execute_result"
    }
   ],
   "source": [
    "a,b,c = f[2],f[1],f[0]\n",
    "q = (p-3)//4\n",
    "E = EllipticCurve(p ,a,b,c)\n",
    "E.__str__()"
   ]
  },
  {
   "cell_type": "code",
   "execution_count": 50,
   "metadata": {},
   "outputs": [
    {
     "data": {
      "text/plain": [
       "Point(x=187984145682771035736210105802328399707404492319, y=172176594459480693014940548551049945767599842622)"
      ]
     },
     "execution_count": 50,
     "metadata": {},
     "output_type": "execute_result"
    }
   ],
   "source": [
    "G=Point(6, pow(f(6),q+1 , p ))\n",
    "#the generator\n",
    "G = E.double_and_add(8,G)\n",
    "\n",
    "E.check_point(G)\n",
    "G"
   ]
  },
  {
   "cell_type": "code",
   "execution_count": 51,
   "metadata": {},
   "outputs": [
    {
     "data": {
      "text/plain": [
       "Point(x=335721366305372026687030795969964735023640367208, y=7083234262175643884855506738787152959931750551)"
      ]
     },
     "execution_count": 51,
     "metadata": {},
     "output_type": "execute_result"
    }
   ],
   "source": [
    "d = b'secret'  #the private key\n",
    "d = bytes_to_long(d)\n",
    "assert d < p-1\n",
    "#the public key\n",
    "Q = E.double_and_add(d,G)\n",
    "Q"
   ]
  },
  {
   "cell_type": "code",
   "execution_count": 52,
   "metadata": {},
   "outputs": [],
   "source": [
    "def isomorph(P):\n",
    "    assert P!=Point(0,0)\n",
    "    return (int(P.x) * inverse(int(P.y),p) ) %p"
   ]
  },
  {
   "cell_type": "code",
   "execution_count": 53,
   "metadata": {},
   "outputs": [
    {
     "data": {
      "text/plain": [
       "[(4, 3)]"
      ]
     },
     "execution_count": 53,
     "metadata": {},
     "output_type": "execute_result"
    }
   ],
   "source": [
    "f.roots()"
   ]
  },
  {
   "cell_type": "code",
   "execution_count": 57,
   "metadata": {},
   "outputs": [
    {
     "data": {
      "text/plain": [
       "x^3"
      ]
     },
     "execution_count": 57,
     "metadata": {},
     "output_type": "execute_result"
    }
   ],
   "source": [
    "#first we have to shift f and its point to make it in the form y^2 = x^3\n",
    "f_shift = f.subs(x = x+k)\n",
    "f_shift"
   ]
  },
  {
   "cell_type": "code",
   "execution_count": 55,
   "metadata": {},
   "outputs": [
    {
     "name": "stdout",
     "output_type": "stream",
     "text": [
      "b'secret'\n"
     ]
    }
   ],
   "source": [
    "\n",
    "G_shift= Point((G.x -k ) % p , G.y)\n",
    "Q_shift= Point((Q.x - k) % p, Q.y)\n",
    "\n",
    "\n",
    "q = isomorph(Q_shift)\n",
    "g = isomorph(G_shift)\n",
    "\n",
    "\n",
    "d_ = (inverse(g,p)* q)  % p\n",
    "print(long_to_bytes(d_))"
   ]
  }
 ],
 "metadata": {
  "kernelspec": {
   "display_name": "Python 3",
   "language": "python",
   "name": "python3"
  },
  "language_info": {
   "codemirror_mode": {
    "name": "ipython",
    "version": 3
   },
   "file_extension": ".py",
   "mimetype": "text/x-python",
   "name": "python",
   "nbconvert_exporter": "python",
   "pygments_lexer": "ipython3",
   "version": "3.8.10"
  }
 },
 "nbformat": 4,
 "nbformat_minor": 4
}
